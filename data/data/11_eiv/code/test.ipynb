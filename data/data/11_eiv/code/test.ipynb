{
 "cells": [
  {
   "cell_type": "code",
   "execution_count": 1,
   "metadata": {},
   "outputs": [
    {
     "name": "stderr",
     "output_type": "stream",
     "text": [
      "/Users/qianyuyang/opt/anaconda3/lib/python3.8/site-packages/requests/__init__.py:89: RequestsDependencyWarning: urllib3 (1.26.0) or chardet (3.0.4) doesn't match a supported version!\n",
      "  warnings.warn(\"urllib3 ({}) or chardet ({}) doesn't match a supported \"\n"
     ]
    }
   ],
   "source": [
    "import selenium\n",
    "from selenium import webdriver\n",
    "from selenium.webdriver.support.wait import WebDriverWait\n",
    "from selenium.webdriver.support import expected_conditions as EC\n",
    "from selenium.webdriver.common.by import By\n",
    "from selenium.webdriver.common.action_chains import ActionChains\n",
    "from selenium.webdriver.common.keys import Keys\n",
    "import os\n",
    "import pandas as pd\n",
    "import numpy as np\n",
    "import time\n",
    "import datetime\n",
    "import sys\n",
    "#need attention\n",
    "import multiprocessing.dummy as mp\n",
    "from lxml import etree\n",
    "import requests\n",
    "import logging\n",
    "import pickle\n",
    "import json\n",
    "import string\n",
    "from zhon.hanzi import punctuation\n",
    "from threading import Thread\n",
    "from functools import wraps\n",
    "import re\n",
    "import warnings\n",
    "import ddddocr\n",
    "import random\n",
    "import argparse\n",
    "from  PIL import Image\n",
    "import shutil\n",
    "warnings.filterwarnings(\"ignore\")"
   ]
  },
  {
   "cell_type": "code",
   "execution_count": 2,
   "metadata": {},
   "outputs": [],
   "source": [
    "start_url = \"https://atlas.eia.gov/search\"\n",
    "chromedriver = \"/Users/qianyuyang/Desktop/Qianyu/RA/energy_database/driver/chromedriver\"\n",
    "options = webdriver.ChromeOptions()\n",
    "prefs = {\"download.default_directory\":\"/Users/qianyuyang/Downloads/%s\"%1}\n",
    "    \n",
    "\n",
    "# 谷歌文档提到需要加上这个属性来规避bug\n",
    "options.add_argument('--disable-gpu') \n",
    "# 不加载图片, 提升速度\n",
    "#options.add_argument('blink-settings=imagesEnabled=false') \n",
    "# 浏览器不提供可视化页面. linux下如果系统不支持可视化不加这条会启动失败\n",
    "options.add_argument('--headless')\n",
    "#options.add_experimental_option(\"prefs\", prefs)\n",
    "driver = webdriver.Chrome(executable_path = chromedriver,options = options)\n",
    "driver.get(start_url)\n",
    "#num_flag = True\n",
    "driver.maximize_window()\n",
    "\n"
   ]
  },
  {
   "cell_type": "code",
   "execution_count": 3,
   "metadata": {},
   "outputs": [],
   "source": [
    "xpath = {\n",
    "    'dataset_button':'//div[@class=\"col-sm-12\"]/h3/div/a',\n",
    "    'load_button':'//button[@class=\"btn more-results link-color-primary\"]',\n",
    "    'level_2_button':'//div[@class=\"stacked-icon\"]',\n",
    "    'detail_button':'//div/a[contains(@class,\"btn\")]',\n",
    "    'intro_cordinate':'//div[@class=\"content-summary\"]/div/div/div/div',\n",
    "    'download_panel_header':'//h1[@class=\"download-panel-header\"]'\n",
    "}\n"
   ]
  },
  {
   "cell_type": "code",
   "execution_count": 4,
   "metadata": {},
   "outputs": [],
   "source": [
    "while True:\n",
    "    try:\n",
    "        WebDriverWait(driver,10,1).until(EC.presence_of_element_located((By.XPATH,xpath['load_button']))).click()\n",
    "        time.sleep(3)\n",
    "    except:\n",
    "        break\n",
    "        "
   ]
  },
  {
   "cell_type": "code",
   "execution_count": 5,
   "metadata": {},
   "outputs": [],
   "source": [
    "html_source = driver.page_source\n",
    "label = etree.HTML(html_source)\n",
    "all_dataset_name = label.xpath('//div[@class=\"col-sm-12\"]/h3/div/a/text()')"
   ]
  },
  {
   "cell_type": "code",
   "execution_count": 6,
   "metadata": {},
   "outputs": [
    {
     "data": {
      "text/plain": [
       "['USA Urban Areas (below 1:500k)',\n",
       " 'USA Urban Areas (1:500k-1.5M)',\n",
       " 'USA Urban Areas (over 1:1.5M)',\n",
       " 'USA Census Populated Place Areas',\n",
       " 'USA Urban Areas',\n",
       " 'NOAA Tornado Warnings',\n",
       " 'NOAA Severe Thunderstorm Warnings',\n",
       " 'NOAA Flash Flood Warnings',\n",
       " 'NOAA Special Marine Warnings',\n",
       " 'MODIS Thermal (Last 48 hours)',\n",
       " 'MODIS Thermal (Last 7 days)',\n",
       " 'Observed Wind Swath',\n",
       " 'Strong Tropical Storm (50kts)',\n",
       " 'Raw 1/10th Degree Data (All)',\n",
       " 'Forecast Error Cone',\n",
       " 'Tropical Storm Force (34kts)',\n",
       " 'Observed Wind Swath',\n",
       " 'Hurricane Force (64kts+)',\n",
       " 'Watches and Warnings',\n",
       " 'Satellite (VIIRS) Thermal Hotspots and Fire Activity',\n",
       " 'National Weather Service Wind Speed Forecast',\n",
       " 'National Weather Service Smoke Forecast',\n",
       " 'Accumulation by Time',\n",
       " 'Amount by Time',\n",
       " 'USA 117th Congressional Districts',\n",
       " 'USA Counties (Generalized)',\n",
       " 'Public Forecast Zones',\n",
       " 'Fire Forecast Zones',\n",
       " 'Coastal and Offshore Marine Zones',\n",
       " 'Events Ordered by Size and Severity',\n",
       " 'US States and Territories',\n",
       " 'USA States (Generalized)',\n",
       " 'USA Federal Lands',\n",
       " 'Climate Zones - DOE Building America Program',\n",
       " 'Renewable Diesel and Other Biofuels',\n",
       " 'Natural Gas Underground Storage',\n",
       " 'Uranium - NURE Favorable Areas',\n",
       " 'Uranium - Identified Resource Areas',\n",
       " 'Liquid Natural Gas (LNG) Import and Export Terminals',\n",
       " 'USA Short-Term Weather Warnings',\n",
       " 'Satellite (MODIS) Thermal Hotspots and Fire Activity',\n",
       " 'USA Current Wildfires',\n",
       " 'Current Incidents',\n",
       " 'Current Perimeters',\n",
       " 'Recent Hurricanes, Cyclones and Typhoons',\n",
       " 'Observed Position',\n",
       " 'Observed Track',\n",
       " 'Active Hurricanes, Cyclones and Typhoons',\n",
       " 'Forecast Position',\n",
       " 'Forecast Track',\n",
       " 'Observed Position',\n",
       " 'Observed Track',\n",
       " 'Cumulative Total',\n",
       " 'National Weather Service Precipitation Forecast',\n",
       " 'Minor Events',\n",
       " 'Severe Events',\n",
       " 'Extreme Events',\n",
       " 'US Counties',\n",
       " 'Moderate Events',\n",
       " 'Other Events',\n",
       " 'USA Weather Watches and Warnings',\n",
       " 'Stations',\n",
       " 'Buoys',\n",
       " 'Current Weather and Wind Station Data',\n",
       " 'United States Wind Turbine Database (USWTDB)',\n",
       " 'USA 116th Congressional Districts',\n",
       " '2020 USA Population Density',\n",
       " 'Ethanol Plants',\n",
       " 'Strategic Petroleum Reserves',\n",
       " 'Petroleum Refineries',\n",
       " 'Coal Mines',\n",
       " 'Biodiesel Plants',\n",
       " 'Natural Gas Storage Regions',\n",
       " 'Uranium - Associated with Phosphate',\n",
       " 'On Shore Wind Speed',\n",
       " 'Sedimentary Basins',\n",
       " 'NERC Regions',\n",
       " 'Power Plants',\n",
       " 'Petroleum Product Terminals',\n",
       " 'Natural Gas Interstate and Intrastate Pipelines',\n",
       " 'Crude Oil Pipelines',\n",
       " 'Hydrocarbon Gas Liquids (HGL) Pipelines',\n",
       " 'Petroleum Product Pipelines',\n",
       " 'Hydrocarbon Gas Liquids (HGL) Market Hubs',\n",
       " 'Electric Retail Service Territories',\n",
       " 'Tight Oil and Shale Gas Plays',\n",
       " 'Uranium In-Situ Leach Plants',\n",
       " 'Uranium Mills and Heap Leach Facilities',\n",
       " 'Northeast Petroleum Reserves',\n",
       " 'Petroleum Administration for Defense Districts (PADD)',\n",
       " 'Natural Gas Trading Hubs',\n",
       " 'Natural Gas Processing Plants',\n",
       " 'Crude Oil Rail Terminals',\n",
       " 'Border Crossings - Natural Gas',\n",
       " 'Border Crossings - Liquids',\n",
       " 'Border Crossings - Electricity',\n",
       " 'USA Railroads',\n",
       " 'Solid Biomass Resources',\n",
       " 'Ethylene Crackers',\n",
       " 'Off Shore Wind Speed 90m (NREL)',\n",
       " 'ShalePlay Midland Spraberry Lower Isopach EIA 202111',\n",
       " 'ShalePlay Midland SpraberryMiddle Boundary EIA 202111',\n",
       " 'ShalePlay Midland SpraberryUpper Boundary EIA 202111',\n",
       " 'ShalePlay Midland SpraberryLower Boundary EIA 202111',\n",
       " 'ShalePlay Midland Spraberry Upper Isopach EIA 202111',\n",
       " 'ShalePlay Midland Spraberry Upper Elevation EIA 202111',\n",
       " 'ShalePlay Midland Spraberry Middle Isopach EIA 202111',\n",
       " 'ShalePlay Midland Spraberry Middle Elevation EIA 202111',\n",
       " 'ShalePlay Midland Spraberry Lower Elevation EIA 202111',\n",
       " 'Geothermal Potential',\n",
       " 'Major Tight Oil and Shale Gas Play - Wolfcamp Isopach, 400-Foot Interval',\n",
       " 'Major Tight Oil and Shale Gas Play - Wolfcamp Isopach, 200-Foot Interval',\n",
       " 'Major Tight Oil and Shale Gas Play - Wolfcamp Play Delaware Extent',\n",
       " 'Major Tight Oil and Shale Gas Play - Utica Play Extent',\n",
       " 'Major Tight Oil and Shale Gas Play - Utica Isopach (Thickness) in Feet',\n",
       " 'Major Tight Oil and Shale Gas Play - Three Forks Play Extent',\n",
       " 'Major Tight Oil and Shale Gas Play - Spraberry Play Extent',\n",
       " 'Major Tight Oil and Shale Gas Play - Point Pleasant Isopach (Thickness) in Feet',\n",
       " 'Major Tight Oil and Shale Gas Play - Niobrara Play Extent',\n",
       " 'Major Tight Oil and Shale Gas Play - Niobrara Isopach (Thickness) in Feet',\n",
       " 'Major Tight Oil and Shale Gas Play - Niobrara Elevation of Top in Feet',\n",
       " 'Major Tight Oil and Shale Gas Play - Marcellus Isopach (Thickness) in Feet',\n",
       " 'Major Tight Oil and Shale Gas Play - Marcellus Formation Extent',\n",
       " 'Major Tight Oil and Shale Gas Play - Glorieta-Yeso Play Extent',\n",
       " 'Major Tight Oil and Shale Gas Play - Eagle Ford Isopach (Thickness) in Feet',\n",
       " 'Major Tight Oil and Shale Gas Play - Eagle Ford Elevation of Top in Feet',\n",
       " 'Major Tight Oil and Shale Gas Play - Delaware Play Extent',\n",
       " 'Major Tight Oil and Shale Gas Play - Bone Spring Play Extent',\n",
       " 'Major Tight Oil and Shale Gas Play - Bakken Isopach (Thickness) in Feet',\n",
       " 'Major Tight Oil and Shale Gas Play - Wolfcamp Elevation of Top in Feet',\n",
       " 'Major Tight Oil and Shale Gas Play - Utica Elevation of Top in Feet',\n",
       " 'Major Tight Oil and Shale Gas Play - Three Forks Elevation of Top in Feet',\n",
       " 'Major Tight Oil and Shale Gas Play - Point Pleasant Elevation of Top in Feet',\n",
       " 'Major Tight Oil and Shale Gas Play - Marcellus Play Extent',\n",
       " 'Major Tight Oil and Shale Gas Play - Marcellus Elevation of Top in Feet',\n",
       " 'Major Tight Oil and Shale Gas Play - Eagle Ford Play Extent',\n",
       " 'Major Tight Oil and Shale Gas Play - Bakken Play Extent',\n",
       " 'Major Tight Oil and Shale Gas Play - Bakken Elevation of Top in Feet',\n",
       " 'Major Tight Oil and Shale Gas Play - Abo-Yeso Play Extent',\n",
       " 'USA Coal Fields',\n",
       " 'Natural Gas Wells',\n",
       " 'Solar Resources',\n",
       " 'Oil and Natural Gas Platforms',\n",
       " 'Oil Wells',\n",
       " 'Wells Oil Generalized',\n",
       " 'Wells Gas Generalized',\n",
       " 'Population By County US Census 2010',\n",
       " 'Petroleum Waterways',\n",
       " 'Petroleum Ports']"
      ]
     },
     "execution_count": 6,
     "metadata": {},
     "output_type": "execute_result"
    }
   ],
   "source": [
    "all_dataset_name = [i.replace(\"\\n\",\"\") for i in all_dataset_name]\n",
    "all_dataset_name = [\" \".join([j for j in i.split(\" \") if j != '']) for i in all_dataset_name]\n",
    "all_dataset_name"
   ]
  },
  {
   "cell_type": "code",
   "execution_count": 11,
   "metadata": {},
   "outputs": [
    {
     "name": "stdout",
     "output_type": "stream",
     "text": [
      "Observed Wind Swath\n",
      "Observed Position\n",
      "Observed Track\n"
     ]
    }
   ],
   "source": [
    "prev = []\n",
    "yb = []\n",
    "for i in all_dataset_name:\n",
    "    if i in prev:\n",
    "        print(i)\n",
    "        yb.append(i + \"*\")\n",
    "    else:\n",
    "        yb.append(i)\n",
    "    prev.append(i)\n",
    "    "
   ]
  },
  {
   "cell_type": "code",
   "execution_count": 11,
   "metadata": {},
   "outputs": [],
   "source": [
    "def get_latest_download_file(file_dir=\"/Users/qianyuyang/Downloads/0\"):\n",
    "    \n",
    "    l=os.listdir(file_dir)\n",
    "    l.sort(key=lambda fn: os.path.getmtime(file_dir+\"/\"+fn) if not os.path.isdir(file_dir+\"/\"+fn) else 0)\n",
    "\n",
    "    #get file dowload time\n",
    "    d=datetime.datetime.fromtimestamp(os.path.getmtime(file_dir+\"/\"+l[-1]))\n",
    "    print(d)\n",
    "    print(l)\n",
    "    return l[-1]\n"
   ]
  },
  {
   "cell_type": "code",
   "execution_count": 12,
   "metadata": {},
   "outputs": [
    {
     "data": {
      "text/plain": [
       "['.DS_Store',\n",
       " 'USA_Weather_Watches_and_Warnings.kml',\n",
       " 'National_Weather_Service_Precipitation_Forecast.kml.crdownload',\n",
       " 'Satellite_(VIIRS)_Thermal_Hotspots_and_Fire_Activity.kml',\n",
       " 'Satellite_(VIIRS)_Thermal_Hotspots_and_Fire_Activity.csv']"
      ]
     },
     "execution_count": 12,
     "metadata": {},
     "output_type": "execute_result"
    }
   ],
   "source": [
    "os.listdir(\"/Users/qianyuyang/Downloads/1\")"
   ]
  },
  {
   "cell_type": "code",
   "execution_count": 13,
   "metadata": {},
   "outputs": [
    {
     "name": "stdout",
     "output_type": "stream",
     "text": [
      "2023-03-15 08:40:57.111175\n",
      "['.DS_Store', 'Satellite_(VIIRS)_Thermal_Hotspots_and_Fire_Activity.csv', 'Satellite_(VIIRS)_Thermal_Hotspots_and_Fire_Activity.kml', 'National_Weather_Service_Precipitation_Forecast.kml.crdownload', 'USA_Weather_Watches_and_Warnings.kml']\n"
     ]
    },
    {
     "data": {
      "text/plain": [
       "'USA_Weather_Watches_and_Warnings.kml'"
      ]
     },
     "execution_count": 13,
     "metadata": {},
     "output_type": "execute_result"
    }
   ],
   "source": [
    "get_latest_download_file(\"/Users/qianyuyang/Downloads/1\")"
   ]
  },
  {
   "cell_type": "code",
   "execution_count": 7,
   "metadata": {},
   "outputs": [
    {
     "data": {
      "text/plain": [
       "{'USA Urban Areas (below 1:500k)': 0,\n",
       " 'USA Urban Areas (1:500k-1.5M)': 1,\n",
       " 'USA Urban Areas (over 1:1.5M)': 2,\n",
       " 'USA Census Populated Place Areas': 3,\n",
       " 'USA Urban Areas': 4,\n",
       " 'NOAA Tornado Warnings': 5,\n",
       " 'NOAA Severe Thunderstorm Warnings': 6,\n",
       " 'NOAA Flash Flood Warnings': 7,\n",
       " 'NOAA Special Marine Warnings': 8,\n",
       " 'MODIS Thermal (Last 48 hours)': 9,\n",
       " 'MODIS Thermal (Last 7 days)': 10,\n",
       " 'Observed Wind Swath': 16,\n",
       " 'Strong Tropical Storm (50kts)': 12,\n",
       " 'Raw 1/10th Degree Data (All)': 13,\n",
       " 'Forecast Error Cone': 14,\n",
       " 'Tropical Storm Force (34kts)': 15,\n",
       " 'Hurricane Force (64kts+)': 17,\n",
       " 'Watches and Warnings': 18,\n",
       " 'Satellite (VIIRS) Thermal Hotspots and Fire Activity': 19,\n",
       " 'National Weather Service Wind Speed Forecast': 20,\n",
       " 'National Weather Service Smoke Forecast': 21,\n",
       " 'Accumulation by Time': 22,\n",
       " 'Amount by Time': 23,\n",
       " 'USA 117th Congressional Districts': 24,\n",
       " 'USA Counties (Generalized)': 25,\n",
       " 'Public Forecast Zones': 26,\n",
       " 'Fire Forecast Zones': 27,\n",
       " 'Coastal and Offshore Marine Zones': 28,\n",
       " 'Events Ordered by Size and Severity': 29,\n",
       " 'US States and Territories': 30,\n",
       " 'USA States (Generalized)': 31,\n",
       " 'USA Federal Lands': 32,\n",
       " 'Climate Zones - DOE Building America Program': 33,\n",
       " 'Renewable Diesel and Other Biofuels': 34,\n",
       " 'Natural Gas Underground Storage': 35,\n",
       " 'Uranium - NURE Favorable Areas': 36,\n",
       " 'Uranium - Identified Resource Areas': 37,\n",
       " 'Liquid Natural Gas (LNG) Import and Export Terminals': 38,\n",
       " 'USA Short-Term Weather Warnings': 39,\n",
       " 'Satellite (MODIS) Thermal Hotspots and Fire Activity': 40,\n",
       " 'USA Current Wildfires': 41,\n",
       " 'Current Incidents': 42,\n",
       " 'Current Perimeters': 43,\n",
       " 'Recent Hurricanes, Cyclones and Typhoons': 44,\n",
       " 'Observed Position': 50,\n",
       " 'Observed Track': 51,\n",
       " 'Active Hurricanes, Cyclones and Typhoons': 47,\n",
       " 'Forecast Position': 48,\n",
       " 'Forecast Track': 49,\n",
       " 'Cumulative Total': 52,\n",
       " 'National Weather Service Precipitation Forecast': 53,\n",
       " 'Minor Events': 54,\n",
       " 'Severe Events': 55,\n",
       " 'Extreme Events': 56,\n",
       " 'US Counties': 57,\n",
       " 'Moderate Events': 58,\n",
       " 'Other Events': 59,\n",
       " 'USA Weather Watches and Warnings': 60,\n",
       " 'Stations': 61,\n",
       " 'Buoys': 62,\n",
       " 'Current Weather and Wind Station Data': 63,\n",
       " 'United States Wind Turbine Database (USWTDB)': 64,\n",
       " 'USA 116th Congressional Districts': 65,\n",
       " '2020 USA Population Density': 66,\n",
       " 'Ethanol Plants': 67,\n",
       " 'Strategic Petroleum Reserves': 68,\n",
       " 'Petroleum Refineries': 69,\n",
       " 'Coal Mines': 70,\n",
       " 'Biodiesel Plants': 71,\n",
       " 'Natural Gas Storage Regions': 72,\n",
       " 'Uranium - Associated with Phosphate': 73,\n",
       " 'On Shore Wind Speed': 74,\n",
       " 'Sedimentary Basins': 75,\n",
       " 'NERC Regions': 76,\n",
       " 'Power Plants': 77,\n",
       " 'Petroleum Product Terminals': 78,\n",
       " 'Natural Gas Interstate and Intrastate Pipelines': 79,\n",
       " 'Crude Oil Pipelines': 80,\n",
       " 'Hydrocarbon Gas Liquids (HGL) Pipelines': 81,\n",
       " 'Petroleum Product Pipelines': 82,\n",
       " 'Hydrocarbon Gas Liquids (HGL) Market Hubs': 83,\n",
       " 'Electric Retail Service Territories': 84,\n",
       " 'Tight Oil and Shale Gas Plays': 85,\n",
       " 'Uranium In-Situ Leach Plants': 86,\n",
       " 'Uranium Mills and Heap Leach Facilities': 87,\n",
       " 'Northeast Petroleum Reserves': 88,\n",
       " 'Petroleum Administration for Defense Districts (PADD)': 89,\n",
       " 'Natural Gas Trading Hubs': 90,\n",
       " 'Natural Gas Processing Plants': 91,\n",
       " 'Crude Oil Rail Terminals': 92,\n",
       " 'Border Crossings - Natural Gas': 93,\n",
       " 'Border Crossings - Liquids': 94,\n",
       " 'Border Crossings - Electricity': 95,\n",
       " 'USA Railroads': 96,\n",
       " 'Solid Biomass Resources': 97,\n",
       " 'Ethylene Crackers': 98,\n",
       " 'Off Shore Wind Speed 90m (NREL)': 99,\n",
       " 'ShalePlay Midland Spraberry Lower Isopach EIA 202111': 100,\n",
       " 'ShalePlay Midland SpraberryMiddle Boundary EIA 202111': 101,\n",
       " 'ShalePlay Midland SpraberryUpper Boundary EIA 202111': 102,\n",
       " 'ShalePlay Midland SpraberryLower Boundary EIA 202111': 103,\n",
       " 'ShalePlay Midland Spraberry Upper Isopach EIA 202111': 104,\n",
       " 'ShalePlay Midland Spraberry Upper Elevation EIA 202111': 105,\n",
       " 'ShalePlay Midland Spraberry Middle Isopach EIA 202111': 106,\n",
       " 'ShalePlay Midland Spraberry Middle Elevation EIA 202111': 107,\n",
       " 'ShalePlay Midland Spraberry Lower Elevation EIA 202111': 108,\n",
       " 'Geothermal Potential': 109,\n",
       " 'Major Tight Oil and Shale Gas Play - Wolfcamp Isopach, 400-Foot Interval': 110,\n",
       " 'Major Tight Oil and Shale Gas Play - Wolfcamp Isopach, 200-Foot Interval': 111,\n",
       " 'Major Tight Oil and Shale Gas Play - Wolfcamp Play Delaware Extent': 112,\n",
       " 'Major Tight Oil and Shale Gas Play - Utica Play Extent': 113,\n",
       " 'Major Tight Oil and Shale Gas Play - Utica Isopach (Thickness) in Feet': 114,\n",
       " 'Major Tight Oil and Shale Gas Play - Three Forks Play Extent': 115,\n",
       " 'Major Tight Oil and Shale Gas Play - Spraberry Play Extent': 116,\n",
       " 'Major Tight Oil and Shale Gas Play - Point Pleasant Isopach (Thickness) in Feet': 117,\n",
       " 'Major Tight Oil and Shale Gas Play - Niobrara Play Extent': 118,\n",
       " 'Major Tight Oil and Shale Gas Play - Niobrara Isopach (Thickness) in Feet': 119,\n",
       " 'Major Tight Oil and Shale Gas Play - Niobrara Elevation of Top in Feet': 120,\n",
       " 'Major Tight Oil and Shale Gas Play - Marcellus Isopach (Thickness) in Feet': 121,\n",
       " 'Major Tight Oil and Shale Gas Play - Marcellus Formation Extent': 122,\n",
       " 'Major Tight Oil and Shale Gas Play - Glorieta-Yeso Play Extent': 123,\n",
       " 'Major Tight Oil and Shale Gas Play - Eagle Ford Isopach (Thickness) in Feet': 124,\n",
       " 'Major Tight Oil and Shale Gas Play - Eagle Ford Elevation of Top in Feet': 125,\n",
       " 'Major Tight Oil and Shale Gas Play - Delaware Play Extent': 126,\n",
       " 'Major Tight Oil and Shale Gas Play - Bone Spring Play Extent': 127,\n",
       " 'Major Tight Oil and Shale Gas Play - Bakken Isopach (Thickness) in Feet': 128,\n",
       " 'Major Tight Oil and Shale Gas Play - Wolfcamp Elevation of Top in Feet': 129,\n",
       " 'Major Tight Oil and Shale Gas Play - Utica Elevation of Top in Feet': 130,\n",
       " 'Major Tight Oil and Shale Gas Play - Three Forks Elevation of Top in Feet': 131,\n",
       " 'Major Tight Oil and Shale Gas Play - Point Pleasant Elevation of Top in Feet': 132,\n",
       " 'Major Tight Oil and Shale Gas Play - Marcellus Play Extent': 133,\n",
       " 'Major Tight Oil and Shale Gas Play - Marcellus Elevation of Top in Feet': 134,\n",
       " 'Major Tight Oil and Shale Gas Play - Eagle Ford Play Extent': 135,\n",
       " 'Major Tight Oil and Shale Gas Play - Bakken Play Extent': 136,\n",
       " 'Major Tight Oil and Shale Gas Play - Bakken Elevation of Top in Feet': 137,\n",
       " 'Major Tight Oil and Shale Gas Play - Abo-Yeso Play Extent': 138,\n",
       " 'USA Coal Fields': 139,\n",
       " 'Natural Gas Wells': 140,\n",
       " 'Solar Resources': 141,\n",
       " 'Oil and Natural Gas Platforms': 142,\n",
       " 'Oil Wells': 143,\n",
       " 'Wells Oil Generalized': 144,\n",
       " 'Wells Gas Generalized': 145,\n",
       " 'Population By County US Census 2010': 146,\n",
       " 'Petroleum Waterways': 147,\n",
       " 'Petroleum Ports': 148}"
      ]
     },
     "execution_count": 7,
     "metadata": {},
     "output_type": "execute_result"
    }
   ],
   "source": [
    "data_dict = dict()\n",
    "for a,b in enumerate(all_dataset_name):\n",
    "    data_dict[b] = a\n",
    "data_dict"
   ]
  },
  {
   "cell_type": "code",
   "execution_count": 19,
   "metadata": {},
   "outputs": [
    {
     "name": "stdout",
     "output_type": "stream",
     "text": [
      "{}\n",
      "{'WFO': ''}\n",
      "{'WFO': '', 'ETN': ''}\n",
      "{'WFO': '', 'ETN': '', 'UGC': ''}\n",
      "{'WFO': '', 'ETN': '', 'UGC': '', 'WFILE': ''}\n",
      "{'WFO': '', 'ETN': '', 'UGC': '', 'WFILE': '', 'UTC_EXPIRE': ''}\n",
      "{'WFO': '', 'ETN': '', 'UGC': '', 'WFILE': '', 'UTC_EXPIRE': '', 'UTC_ISSUE': ''}\n",
      "{'WFO': '', 'ETN': '', 'UGC': '', 'WFILE': '', 'UTC_EXPIRE': '', 'UTC_ISSUE': '', 'Shape__Area': ''}\n",
      "{'WFO': '', 'ETN': '', 'UGC': '', 'WFILE': '', 'UTC_EXPIRE': '', 'UTC_ISSUE': '', 'Shape__Area': '', 'Shape__Length': ''}\n"
     ]
    }
   ],
   "source": [
    "driver.get('chrome://settings/')\n",
    "driver.execute_script('chrome.settingsPrivate.setDefaultZoom(0.6);')\n",
    "\n",
    "start_url = \"https://atlas.eia.gov/search\"\n",
    "chromedriver = \"/Users/qianyuyang/Desktop/Qianyu/RA/energy_database/driver/chromedriver\"\n",
    "options = webdriver.ChromeOptions()\n",
    "\n",
    "# document in google mention this trick to avoid bug\n",
    "options.add_argument('--disable-gpu') \n",
    "# not load picture\n",
    "#options.add_argument('blink-settings=imagesEnabled=false') \n",
    "# do not use the visable broswer\n",
    "# self.options.add_argument('--headless')\n",
    "\n",
    "#driver = webdriver.Chrome(executable_path = chromedriver,options = options)\n",
    "driver.get(start_url)\n",
    "#num_flag = True\n",
    "driver.maximize_window()\n",
    "\n",
    "rest_data = [v for k,v in data_dict.items() if k not in os.listdir('../data')]\n",
    "for i in rest_data:\n",
    "    driver.get(start_url)\n",
    "    while len(driver.find_elements_by_xpath(xpath['dataset_button'])) <= i:\n",
    "        try:\n",
    "            WebDriverWait(driver,10,1).until(EC.presence_of_element_located((By.XPATH,xpath['load_button']))).click()\n",
    "            time.sleep(5)\n",
    "        except:\n",
    "            break\n",
    "    WebDriverWait(driver,30,1).until(EC.presence_of_all_elements_located((By.XPATH,xpath['dataset_button'])))\n",
    "    current_latest_download_file = get_latest_download_file()\n",
    "    current_dataset = all_dataset_name[i]\n",
    "    if not os.path.exists(\"../data/%s\"%current_dataset):\n",
    "        os.mkdir(\"../data/%s\"%current_dataset)\n",
    "    button = driver.find_elements_by_xpath(xpath['dataset_button'])[i]\n",
    "    driver.execute_script(\"arguments[0].click();\",button)\n",
    "    time.sleep(random.randint(20,30))\n",
    "    try:\n",
    "        WebDriverWait(driver,60,1).until(EC.presence_of_all_elements_located((By.XPATH,xpath['level_2_button'])))\n",
    "        \n",
    "        WebDriverWait(driver,60,1).until(EC.presence_of_all_elements_located((By.XPATH,xpath['detail_button'])))\n",
    "    \n",
    "    except:\n",
    "        continue\n",
    "    time.sleep(random.randint(5,10))\n",
    "    button = driver.find_element_by_xpath(xpath['detail_button'])\n",
    "    driver.execute_script(\"arguments[0].click();\",button)\n",
    "    time.sleep(random.randint(10,20))\n",
    "    html_source = driver.page_source\n",
    "    label = etree.HTML(html_source)\n",
    "    intro_text_list = label.xpath(xpath['intro_cordinate'])\n",
    "    summary = [itl.xpath(\"string(.)\") for itl in intro_text_list]\n",
    "    summary = [\" \".join([jj for jj in s.split(\" \") if jj != '']) for s in summary]\n",
    "    summary = \"\\n\".join(summary)\n",
    "    with open(\"../data/%s/summary.txt\"%current_dataset,'w') as f:\n",
    "        f.write(summary)\n",
    "        f.close()\n",
    "    var = 0\n",
    "    var_dict = {}\n",
    "    while True:\n",
    "        print(var_dict)\n",
    "        try:\n",
    "            varibale_container = '''return document.querySelector('arcgis-hub-attributes-list').shadowRoot.querySelectorAll('calcite-accordion-item')[%s].shadowRoot.querySelector('div[class=\"header-text\"]')'''%var\n",
    "            sd = driver.execute_script(varibale_container)\n",
    "            var_name = sd.find_elements_by_tag_name('span')[0].text\n",
    "            var_dict[var_name] = \"\"\n",
    "            var += 1\n",
    "            try:\n",
    "                description = sd.find_elements_by_tag_name('span')[1].text\n",
    "                var_dict[var_name] = description\n",
    "            except:\n",
    "                continue\n",
    "        except:\n",
    "            break\n",
    "    with open(\"../data/%s/description.json\"%current_dataset,'w') as outfile:\n",
    "        json.dump(var_dict, outfile)\n",
    "            \n",
    "    WebDriverWait(driver,60,1).until(EC.presence_of_all_elements_located((By.XPATH,xpath['detail_button'])))\n",
    "    time.sleep(random.randint(10,15))\n",
    "    \n",
    "    button = driver.find_elements_by_xpath(xpath['level_2_button'])[1]\n",
    "    driver.execute_script(\"arguments[0].click();\",button)\n",
    "    time.sleep(random.randint(20,30))\n",
    "    \n",
    "    \n",
    "    file_num = driver.find_elements_by_xpath('//div[@class=\"dataset-download-card\"]')\n",
    "    for di in range(len(file_num)):\n",
    "        try:\n",
    "            download_button = '''return document.querySelectorAll('div[class=\"dataset-download-card\"] hub-download-card')[%s].shadowRoot.querySelector('calcite-button')'''%di\n",
    "\n",
    "            driver.execute_script(download_button).click()\n",
    "            \n",
    "            time.sleep(3)\n",
    "            download_button = '''return document.querySelectorAll('div[class=\"dataset-download-card\"] hub-download-card')[%s].shadowRoot.querySelectorAll('calcite-dropdown-item')[1]'''%di\n",
    "\n",
    "            driver.execute_script(download_button).click()\n",
    "        except AttributeError:\n",
    "            time.sleep(15)\n",
    "            while get_latest_download_file() == current_latest_download_file or 'google' in get_latest_download_file() or 'download' in get_latest_download_file():\n",
    "                time.sleep(5)\n",
    "            \n",
    "            current_latest_download_file = get_latest_download_file()\n",
    "            \n",
    "            shutil.move(os.path.join(\"/Users/qianyuyang/Downloads\",current_latest_download_file),\"../data/%s\"%current_dataset)\n",
    "        \n",
    "            time.sleep(random.randint(10,15))\n",
    "            continue\n",
    "    \n",
    "        \n",
    "        time.sleep(15)\n",
    "        while get_latest_download_file() == current_latest_download_file or 'google' in get_latest_download_file() or 'download' in get_latest_download_file():\n",
    "            time.sleep(5)\n",
    "        \n",
    "        current_latest_download_file = get_latest_download_file()\n",
    "        \n",
    "        shutil.move(os.path.join(\"/Users/qianyuyang/Downloads\",current_latest_download_file),\"../data/%s\"%current_dataset)\n",
    "    \n",
    "        time.sleep(random.randint(10,15))\n",
    "    \n",
    "    \n",
    "driver.quit()\n",
    "\n",
    "    "
   ]
  },
  {
   "cell_type": "code",
   "execution_count": 15,
   "metadata": {},
   "outputs": [],
   "source": [
    "download_button = '''return document.querySelectorAll('div[class=\"dataset-download-card\"] hub-download-card')[%s].shadowRoot.querySelectorAll('calcite-dropdown-item')[1]'''%di\n",
    "\n",
    "driver.execute_script(download_button).click()"
   ]
  },
  {
   "cell_type": "code",
   "execution_count": 10,
   "metadata": {},
   "outputs": [],
   "source": [
    "download_button = '''return document.querySelector('arcgis-hub-attributes-list').shadowRoot.querySelectorAll('calcite-accordion-item')[1].shadowRoot.querySelector('div[class=\"header-text\"]')'''\n",
    "sd = driver.execute_script(download_button)\n"
   ]
  },
  {
   "cell_type": "code",
   "execution_count": 12,
   "metadata": {},
   "outputs": [
    {
     "ename": "IndexError",
     "evalue": "list index out of range",
     "output_type": "error",
     "traceback": [
      "\u001b[0;31m---------------------------------------------------------------------------\u001b[0m",
      "\u001b[0;31mIndexError\u001b[0m                                Traceback (most recent call last)",
      "\u001b[0;32m<ipython-input-12-8ad48063e282>\u001b[0m in \u001b[0;36m<module>\u001b[0;34m\u001b[0m\n\u001b[0;32m----> 1\u001b[0;31m \u001b[0msd\u001b[0m\u001b[0;34m.\u001b[0m\u001b[0mfind_elements_by_tag_name\u001b[0m\u001b[0;34m(\u001b[0m\u001b[0;34m'span'\u001b[0m\u001b[0;34m)\u001b[0m\u001b[0;34m[\u001b[0m\u001b[0;36m1\u001b[0m\u001b[0;34m]\u001b[0m\u001b[0;34m.\u001b[0m\u001b[0mtext\u001b[0m\u001b[0;34m\u001b[0m\u001b[0;34m\u001b[0m\u001b[0m\n\u001b[0m",
      "\u001b[0;31mIndexError\u001b[0m: list index out of range"
     ]
    }
   ],
   "source": [
    "sd.find_elements_by_tag_name('span')[1].text"
   ]
  },
  {
   "cell_type": "code",
   "execution_count": 65,
   "metadata": {},
   "outputs": [],
   "source": [
    "driver.get('chrome://settings/')\n",
    "driver.execute_script('chrome.settingsPrivate.setDefaultZoom(0.6);')"
   ]
  },
  {
   "cell_type": "code",
   "execution_count": 110,
   "metadata": {},
   "outputs": [
    {
     "ename": "AttributeError",
     "evalue": "'NoneType' object has no attribute 'click'",
     "output_type": "error",
     "traceback": [
      "\u001b[0;31m---------------------------------------------------------------------------\u001b[0m",
      "\u001b[0;31mAttributeError\u001b[0m                            Traceback (most recent call last)",
      "\u001b[0;32m<ipython-input-110-e03ae84c23a2>\u001b[0m in \u001b[0;36m<module>\u001b[0;34m\u001b[0m\n\u001b[1;32m      5\u001b[0m \u001b[0mdownload_button\u001b[0m \u001b[0;34m=\u001b[0m \u001b[0;34m'''return document.querySelectorAll('div[class=\"dataset-download-card\"] hub-download-card')[%s].shadowRoot.querySelectorAll('calcite-dropdown-item')[1]'''\u001b[0m\u001b[0;34m%\u001b[0m\u001b[0;36m3\u001b[0m\u001b[0;34m\u001b[0m\u001b[0;34m\u001b[0m\u001b[0m\n\u001b[1;32m      6\u001b[0m \u001b[0;34m\u001b[0m\u001b[0m\n\u001b[0;32m----> 7\u001b[0;31m \u001b[0mdriver\u001b[0m\u001b[0;34m.\u001b[0m\u001b[0mexecute_script\u001b[0m\u001b[0;34m(\u001b[0m\u001b[0mdownload_button\u001b[0m\u001b[0;34m)\u001b[0m\u001b[0;34m.\u001b[0m\u001b[0mclick\u001b[0m\u001b[0;34m(\u001b[0m\u001b[0;34m)\u001b[0m\u001b[0;34m\u001b[0m\u001b[0;34m\u001b[0m\u001b[0m\n\u001b[0m",
      "\u001b[0;31mAttributeError\u001b[0m: 'NoneType' object has no attribute 'click'"
     ]
    }
   ],
   "source": [
    "download_button = '''return document.querySelectorAll('div[class=\"dataset-download-card\"] hub-download-card')[%s].shadowRoot.querySelector('calcite-button')'''%3\n",
    "\n",
    "driver.execute_script(download_button).click()\n",
    "\n",
    "download_button = '''return document.querySelectorAll('div[class=\"dataset-download-card\"] hub-download-card')[%s].shadowRoot.querySelectorAll('calcite-dropdown-item')[1]'''%3\n",
    "\n",
    "driver.execute_script(download_button).click()"
   ]
  },
  {
   "cell_type": "code",
   "execution_count": 15,
   "metadata": {},
   "outputs": [
    {
     "data": {
      "text/plain": [
       "'/Users/qianyuyang/Desktop/Qianyu/RA/energy_database/data/11/code/summary.txt'"
      ]
     },
     "execution_count": 15,
     "metadata": {},
     "output_type": "execute_result"
    }
   ],
   "source": [
    "shutil.copy(\"/Users/qianyuyang/Desktop/Qianyu/RA/energy_database/data/11/data/USA Urban Areas (below 1:500k)/summary.txt\",\"/Users/qianyuyang/Desktop/Qianyu/RA/energy_database/data/11/code\")"
   ]
  },
  {
   "cell_type": "code",
   "execution_count": 21,
   "metadata": {},
   "outputs": [],
   "source": [
    "#driver = webdriver.Chrome(executable_path = chromedriver,options = options)\n",
    "driver.get(start_url)\n",
    "#num_flag = True\n",
    "driver.maximize_window()"
   ]
  },
  {
   "cell_type": "code",
   "execution_count": 48,
   "metadata": {},
   "outputs": [],
   "source": [
    "button = driver.find_element_by_xpath(xpath['detail_button'])\n",
    "driver.execute_script(\"arguments[0].click();\",button)"
   ]
  },
  {
   "cell_type": "code",
   "execution_count": 50,
   "metadata": {},
   "outputs": [
    {
     "data": {
      "text/plain": [
       "['\\n      \\n        This layer presents the 2010 Census Urbanized Areas (UA) and Urban Clusters (UC) at small scales and the urban areas of the Digital Chart of the World at large scales.\\n      This layer presents the Census 2010 Urbanized Areas (UA) and Urban Clusters (UC). A UA consists of contiguous, densely settled census block groups (BGs) and census blocks that meet minimum population density requirements (1000ppsm /500ppsm), along with adjacent densely settled census blocks that together encompass a population of at least 50,000 people. A UC consists of contiguous, densely settled census BGs and census blocks that meet minimum population density requirements, along with adjacent densely settled census blocks that together encompass a population of at least 2,500 people, but fewer than 50,000 people. The dataset covers the 50 States plus the District of Columbia within United States.\\n    \\n    ']"
      ]
     },
     "execution_count": 50,
     "metadata": {},
     "output_type": "execute_result"
    }
   ],
   "source": [
    "html_source = driver.page_source\n",
    "label = etree.HTML(html_source)\n",
    "intro_text_list = label.xpath(xpath['intro_cordinate'])\n",
    "[i.xpath(\"string(.)\") for i in intro_text_list]"
   ]
  },
  {
   "cell_type": "code",
   "execution_count": null,
   "metadata": {},
   "outputs": [],
   "source": []
  }
 ],
 "metadata": {
  "kernelspec": {
   "display_name": "base",
   "language": "python",
   "name": "python3"
  },
  "language_info": {
   "codemirror_mode": {
    "name": "ipython",
    "version": 3
   },
   "file_extension": ".py",
   "mimetype": "text/x-python",
   "name": "python",
   "nbconvert_exporter": "python",
   "pygments_lexer": "ipython3",
   "version": "3.9.12"
  },
  "orig_nbformat": 4,
  "vscode": {
   "interpreter": {
    "hash": "d4d1e4263499bec80672ea0156c357c1ee493ec2b1c70f0acce89fc37c4a6abe"
   }
  }
 },
 "nbformat": 4,
 "nbformat_minor": 2
}
