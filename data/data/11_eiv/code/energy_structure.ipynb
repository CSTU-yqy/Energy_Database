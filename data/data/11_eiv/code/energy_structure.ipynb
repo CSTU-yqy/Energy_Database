{
 "cells": [
  {
   "cell_type": "code",
   "execution_count": 1,
   "metadata": {},
   "outputs": [],
   "source": [
    "import pandas as pd"
   ]
  },
  {
   "cell_type": "code",
   "execution_count": 11,
   "metadata": {},
   "outputs": [
    {
     "data": {
      "text/html": [
       "<div>\n",
       "<style scoped>\n",
       "    .dataframe tbody tr th:only-of-type {\n",
       "        vertical-align: middle;\n",
       "    }\n",
       "\n",
       "    .dataframe tbody tr th {\n",
       "        vertical-align: top;\n",
       "    }\n",
       "\n",
       "    .dataframe thead th {\n",
       "        text-align: right;\n",
       "    }\n",
       "</style>\n",
       "<table border=\"1\" class=\"dataframe\">\n",
       "  <thead>\n",
       "    <tr style=\"text-align: right;\">\n",
       "      <th></th>\n",
       "      <th>Unnamed: 0</th>\n",
       "      <th>Layer_Name</th>\n",
       "      <th>Layer_Type</th>\n",
       "      <th>Last_Updated_date</th>\n",
       "      <th>Rows</th>\n",
       "      <th>Tags</th>\n",
       "    </tr>\n",
       "  </thead>\n",
       "  <tbody>\n",
       "    <tr>\n",
       "      <th>20</th>\n",
       "      <td>20</td>\n",
       "      <td>National Weather Service Wind Speed Forecast</td>\n",
       "      <td>Feature Layer</td>\n",
       "      <td>2023-03-21</td>\n",
       "      <td>151699.0</td>\n",
       "      <td>['Esri', 'NOAA', 'NDFD', 'NWS', 'NCEP', 'Wind ...</td>\n",
       "    </tr>\n",
       "    <tr>\n",
       "      <th>65</th>\n",
       "      <td>65</td>\n",
       "      <td>United States Wind Turbine Database (USWTDB)</td>\n",
       "      <td>Feature Layer</td>\n",
       "      <td>2022-10-13</td>\n",
       "      <td>65548.0</td>\n",
       "      <td>['Wind Turbines', 'wind']</td>\n",
       "    </tr>\n",
       "  </tbody>\n",
       "</table>\n",
       "</div>"
      ],
      "text/plain": [
       "    Unnamed: 0                                    Layer_Name     Layer_Type  \\\n",
       "20          20  National Weather Service Wind Speed Forecast  Feature Layer   \n",
       "65          65  United States Wind Turbine Database (USWTDB)  Feature Layer   \n",
       "\n",
       "   Last_Updated_date      Rows  \\\n",
       "20        2023-03-21  151699.0   \n",
       "65        2022-10-13   65548.0   \n",
       "\n",
       "                                                 Tags  \n",
       "20  ['Esri', 'NOAA', 'NDFD', 'NWS', 'NCEP', 'Wind ...  \n",
       "65                          ['Wind Turbines', 'wind']  "
      ]
     },
     "execution_count": 11,
     "metadata": {},
     "output_type": "execute_result"
    }
   ],
   "source": [
    "tags = pd.read_csv('/files/master/energy_database/data/11_eiv/11/data/0_database_summary/tag_list.csv')\n",
    "data = pd.read_csv('/files/master/energy_database/data/11_eiv/11/data/0_database_summary/data_description.csv')\n",
    "interesting_tags = ['Wind','Wind Speed','Wind Turbines']\n",
    "has_duplicate = data['Tags'].apply(lambda x: any(i in x for i in interesting_tags))\n",
    "result = data[has_duplicate]\n",
    "result"
   ]
  },
  {
   "cell_type": "code",
   "execution_count": null,
   "metadata": {},
   "outputs": [],
   "source": []
  }
 ],
 "metadata": {
  "kernelspec": {
   "display_name": "base",
   "language": "python",
   "name": "python3"
  },
  "language_info": {
   "codemirror_mode": {
    "name": "ipython",
    "version": 3
   },
   "file_extension": ".py",
   "mimetype": "text/x-python",
   "name": "python",
   "nbconvert_exporter": "python",
   "pygments_lexer": "ipython3",
   "version": "3.9.12"
  },
  "orig_nbformat": 4,
  "vscode": {
   "interpreter": {
    "hash": "d4d1e4263499bec80672ea0156c357c1ee493ec2b1c70f0acce89fc37c4a6abe"
   }
  }
 },
 "nbformat": 4,
 "nbformat_minor": 2
}
