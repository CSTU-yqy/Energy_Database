{
 "cells": [
  {
   "cell_type": "code",
   "execution_count": 1,
   "metadata": {},
   "outputs": [
    {
     "name": "stderr",
     "output_type": "stream",
     "text": [
      "/Users/qianyuyang/opt/anaconda3/lib/python3.8/site-packages/requests/__init__.py:89: RequestsDependencyWarning: urllib3 (1.26.0) or chardet (3.0.4) doesn't match a supported version!\n",
      "  warnings.warn(\"urllib3 ({}) or chardet ({}) doesn't match a supported \"\n"
     ]
    }
   ],
   "source": [
    "import selenium\n",
    "from selenium import webdriver\n",
    "from selenium.webdriver.support.wait import WebDriverWait\n",
    "from selenium.webdriver.support import expected_conditions as EC\n",
    "from selenium.webdriver.common.by import By\n",
    "from selenium.webdriver.common.action_chains import ActionChains\n",
    "from selenium.webdriver.common.keys import Keys\n",
    "import os\n",
    "import pandas as pd\n",
    "import numpy as np\n",
    "import time\n",
    "from datetime import datetime\n",
    "import sys\n",
    "#need attention\n",
    "import multiprocessing.dummy as mp\n",
    "from lxml import etree\n",
    "import requests\n",
    "import logging\n",
    "import pickle\n",
    "import json\n",
    "import string\n",
    "from zhon.hanzi import punctuation\n",
    "from threading import Thread\n",
    "from functools import wraps\n",
    "import re\n",
    "import warnings\n",
    "import ddddocr\n",
    "import random\n",
    "import argparse\n",
    "from  PIL import Image\n",
    "import shutil\n",
    "warnings.filterwarnings(\"ignore\")"
   ]
  },
  {
   "cell_type": "code",
   "execution_count": 3,
   "metadata": {},
   "outputs": [],
   "source": [
    "xpath = {\n",
    "    'freq':{\n",
    "        'freq_select_button':'//div[@class=\"time-selection-controls\"]/div[@class=\"selection-menu-button frequency\"][1]',\n",
    "        'freq_button':{\n",
    "            'monthly':'//label[@for=\"monthly\"]',\n",
    "            'quarterly':'//label[@for=\"quarterly\"]',\n",
    "            'annual':'//label[@for=\"annual\"]'\n",
    "            }\n",
    "    },\n",
    "    'download':{\n",
    "        'download_menu':'//div[@id=\"main_download_button\"]',\n",
    "        'download_csv_table':'//dl[@class=\"download_menu\"]/dd/a[@id=\"csv_table\"]'\n",
    "    },\n",
    "    'data':'//option[@class=\"link_option\"]',\n",
    "}"
   ]
  },
  {
   "cell_type": "code",
   "execution_count": 5,
   "metadata": {},
   "outputs": [
    {
     "name": "stdout",
     "output_type": "stream",
     "text": [
      "monthly\n",
      "quarterly\n",
      "annual\n",
      "download:Plant level data: error\n",
      "monthly\n",
      "quarterly\n",
      "annual\n",
      "monthly\n",
      "quarterly\n",
      "annual\n"
     ]
    }
   ],
   "source": [
    "flag = 0\n",
    "wait_time = 1\n",
    "while flag < 3:\n",
    "    flag = 0\n",
    "    get_start_time = str(datetime.now())\n",
    "    prefs = {\"download.default_directory\":\"/Users/qianyuyang/Downloads/%s\"%get_start_time}\n",
    "    default_download = \"/Users/qianyuyang/Downloads/%s\"%get_start_time\n",
    "    if not os.path.exists(default_download):\n",
    "        os.mkdir(default_download)\n",
    "    \n",
    "    start_url = \"https://www.eia.gov/beta/electricity/data/browser/\"\n",
    "    chromedriver = \"/Volumes/TOSHIBA EXT/RA/energy_database/driver/chromedriver\"\n",
    "    options = webdriver.ChromeOptions()\n",
    "    \n",
    "    #prefs = {\"download.default_directory\":\"/Users/qianyuyang/Downloads/%s\"%1}\n",
    "        \n",
    "\n",
    "    # 谷歌文档提到需要加上这个属性来规避bug\n",
    "    options.add_argument('--disable-gpu') \n",
    "    # 不加载图片, 提升速度\n",
    "    #options.add_argument('blink-settings=imagesEnabled=false') \n",
    "    # 浏览器不提供可视化页面. linux下如果系统不支持可视化不加这条会启动失败\n",
    "    #options.add_argument('--headless')\n",
    "    #options.add_experimental_option(\"prefs\", prefs)\n",
    "    options.add_experimental_option(\"prefs\", prefs)\n",
    "    driver = webdriver.Chrome(executable_path = chromedriver,options = options)\n",
    "    driver.get(start_url)\n",
    "    #num_flag = True\n",
    "    driver.maximize_window()\n",
    "    for f in xpath['freq']['freq_button'].keys():\n",
    "        print(f)\n",
    "        driver.get(start_url)\n",
    "        for file1 in os.listdir('../data/%s'%f):\n",
    "            if len(os.listdir('../data/%s/%s'%(f,file1))) == 0:\n",
    "                print(file1)\n",
    "                os.rmdir('../data/%s/%s'%(f,file1))\n",
    "        if not os.path.exists('../data/%s'%f):\n",
    "            os.mkdir('../data/%s'%f)\n",
    "        try:\n",
    "            WebDriverWait(driver,20,1).until(EC.presence_of_element_located((By.XPATH,xpath['freq']['freq_select_button'])))\n",
    "            time.sleep(wait_time)\n",
    "            driver.find_element_by_xpath(xpath['freq']['freq_select_button']).click()\n",
    "            time.sleep(wait_time)\n",
    "            WebDriverWait(driver,10,1).until(EC.presence_of_element_located((By.XPATH,xpath['freq']['freq_button'][f])))\n",
    "            driver.find_element_by_xpath(xpath['freq']['freq_button'][f]).click()\n",
    "            time.sleep(wait_time)\n",
    "        except:\n",
    "            print(f\"freq:{f}: error\")\n",
    "            continue\n",
    "        \n",
    "        html_source = driver.page_source\n",
    "        label = etree.HTML(html_source)\n",
    "        data_list = label.xpath(f\"{xpath['data']}/text()\")\n",
    "        \n",
    "        todolist = set(data_list) - set(os.listdir('../data/%s'%f))\n",
    "        if len(todolist) == 0:\n",
    "            flag += 1\n",
    "            continue\n",
    "        for j in todolist:\n",
    "            \n",
    "            idx = data_list.index(j)\n",
    "            \n",
    "            try:\n",
    "                WebDriverWait(driver,10,1).until(EC.presence_of_all_elements_located((By.XPATH,xpath['data'])))[idx].click()\n",
    "                time.sleep(wait_time)\n",
    "            except:\n",
    "                print(f\"data:{j}: error\")\n",
    "                continue\n",
    "            \n",
    "            try:\n",
    "                time.sleep(wait_time)\n",
    "                WebDriverWait(driver,10,1).until(EC.presence_of_element_located((By.XPATH,xpath['download']['download_menu']))).click()\n",
    "                time.sleep(wait_time)\n",
    "                WebDriverWait(driver,10,1).until(EC.presence_of_element_located((By.XPATH,xpath['download']['download_csv_table']))).click()\n",
    "                time.sleep(wait_time)\n",
    "            except:\n",
    "                print(f\"download:{j}: error\")\n",
    "                continue\n",
    "            if not os.path.exists('../data/%s/%s'%(f,j)):\n",
    "                os.mkdir('../data/%s/%s'%(f,j))\n",
    "            for file in os.listdir(f'{default_download}'):\n",
    "                shutil.move(f'{default_download}/{file}','../data/%s/%s'%(f,j))\n",
    "            time.sleep(wait_time)\n",
    "        \n",
    "    driver.quit()\n",
    "    \n",
    "    wait_time += 1\n",
    "        \n",
    "            \n",
    "    # print(f)\n",
    "    "
   ]
  },
  {
   "cell_type": "code",
   "execution_count": 6,
   "metadata": {},
   "outputs": [],
   "source": [
    "driver.find_element_by_xpath(xpath['freq']['freq_select_button']).click()"
   ]
  },
  {
   "cell_type": "code",
   "execution_count": 8,
   "metadata": {},
   "outputs": [],
   "source": [
    "driver.find_element_by_xpath(xpath['freq']['freq_button']['annual']).click()"
   ]
  },
  {
   "cell_type": "code",
   "execution_count": 21,
   "metadata": {},
   "outputs": [],
   "source": [
    "driver.quit()"
   ]
  },
  {
   "cell_type": "code",
   "execution_count": 20,
   "metadata": {},
   "outputs": [],
   "source": [
    "WebDriverWait(driver,10,1).until(EC.presence_of_all_elements_located((By.XPATH,xpath['data'])))[6].click()"
   ]
  },
  {
   "cell_type": "code",
   "execution_count": 17,
   "metadata": {},
   "outputs": [
    {
     "data": {
      "text/plain": [
       "<function selenium.webdriver.support.expected_conditions.presence_of_all_elements_located.<locals>._predicate(driver)>"
      ]
     },
     "execution_count": 17,
     "metadata": {},
     "output_type": "execute_result"
    }
   ],
   "source": [
    "EC.presence_of_all_elements_located((By.XPATH,xpath['data']))"
   ]
  },
  {
   "cell_type": "code",
   "execution_count": 14,
   "metadata": {},
   "outputs": [
    {
     "data": {
      "text/plain": [
       "0"
      ]
     },
     "execution_count": 14,
     "metadata": {},
     "output_type": "execute_result"
    }
   ],
   "source": [
    "data_list.index(\"Net generation\")"
   ]
  },
  {
   "cell_type": "code",
   "execution_count": 13,
   "metadata": {},
   "outputs": [
    {
     "name": "stdout",
     "output_type": "stream",
     "text": [
      "0 Net generation\n",
      "1 Total consumption\n",
      "2 Total consumption (Btu)\n",
      "3 Consumption for electricity generation\n",
      "4 Consumption for electricity generation (Btu)\n",
      "5 Consumption for useful thermal output\n",
      "6 Consumption for useful thermal output (Btu)\n",
      "7 Plant level data\n",
      "8 Retail sales of electricity\n",
      "9 Revenue from retail sales of electricity\n",
      "10 Average retail price of electricity\n",
      "11 Number of customer accounts\n",
      "12 Fossil-fuel stocks for electricity generation\n",
      "13 Receipts of fossil fuels by electricity plants\n",
      "14 Receipts of fossil fuels by electricity plants (Btu)\n",
      "15 Average cost of fossil fuels for electricity generation\n",
      "16 Average cost of fossil fuels for electricity generation (per Btu)\n",
      "17 Quality of fossil fuels in electricity generation : sulfur content\n",
      "18 Quality of fossil fuels in electricity generation : ash content\n",
      "19 1.1 Net generation by energy source: total - all sectors\n",
      "20 1.1.a Net generation by renewable sources: total - all sectors\n",
      "21 1.2.a Net generation by energy source: electric utilities\n",
      "22 1.2.b Net generation by energy source: independent power producers\n",
      "23 1.2.c Net generation by energy source: commercial sector\n",
      "24 1.2.d Net generation by energy source: industrial sector\n",
      "25 1.3 Net generation by state by sector\n",
      "26 1.4 Net generation from coal by state by sector\n",
      "27 1.5 Net generation from petroleum liquids by state by sector\n",
      "28 1.6 Net generation from petroleum coke by state by sector\n",
      "29 1.7 Net generation from natural gas by state by sector\n",
      "30 1.8 Net generation from other gases by state by sector\n",
      "31 1.9 Net generation from nuclear energy by state by sector\n",
      "32 1.10 Net generation from hydroelectric (conventional) power by state by sector\n",
      "33 1.11 Net generation from renewable sources excluding hydroelectric by state by sector\n",
      "34 1.12 Net generation from hydroelectric (pumped storage) power by state by sector\n",
      "35 1.13 Net generation from other energy sources by state by sector\n",
      "36 1.14 Net generation from wind by state by sector\n",
      "37 1.15 Net generation from biomass by state by sector\n",
      "38 1.16 Net generation from geothermal by census division by sector\n",
      "39 1.20 Net generation from solar by state by sector\n",
      "40 2.1.a Consumption of coal for electricity generation by sector\n",
      "41 2.1.b Consumption of coal for useful thermal output by sector\n",
      "42 2.1.c Consumption of coal for electricity generation and useful thermal output by sector\n",
      "43 2.2.a Consumption of petroleum liquids for electricity generation by sector\n",
      "44 2.2.b Consumption of petroleum liquids for useful thermal output by sector\n",
      "45 2.2.c Total consumption of petroleum liquids by sector\n",
      "46 2.3.a Consumption of petroleum coke for electricity generation by sector\n",
      "47 2.3.b Consumption of petroleum coke for useful thermal output by sector\n",
      "48 2.3.c Total consumption of petroleum coke by sector\n",
      "49 2.4.a Consumption of natural gas for electricity generation by sector\n",
      "50 2.4.b Consumption of natural gas for useful thermal output by sector\n",
      "51 2.4.c Total consumption of natural gas by sector\n",
      "52 2.5 Consumption of coal for electricity generation by state by sector\n",
      "53 2.6 Consumption of petroleum liquids for electricity generation by state by sector\n",
      "54 2.7 Consumption of petroleum coke for electricity generation by state by sector\n",
      "55 2.8 Consumption of natural gas for electricity generation by state by sector\n",
      "56 3.1 Stocks of coal, petroleum liquids, and petroleum coke: electric power sector\n",
      "57 3.2 Stocks of coal, petroleum liquids, and petroleum coke: electric power sector by state\n",
      "58 3.3 Stocks of coal: electric power sector by census division\n",
      "59 3.3 Stocks of petroleum liquids: electric power sector by census division\n",
      "60 3.3 Stocks of petroleum coke: electric power sector by census division\n",
      "61 3.4 Stocks of coal by coal rank\n",
      "62 4.6.a Receipts of coal delivered for electricity generation by state\n",
      "63 4.7.a Receipts of petroleum liquids delivered for electricity generation by state\n",
      "64 4.8.a Receipts of petroleum coke delivered for electricity generation by state\n",
      "65 4.9.a Receipts of natural gas delivered for electricity generation by state\n",
      "66 4.10.a Average cost of coal delivered for electricity generation by state\n",
      "67 4.11.a Average cost of petroleum liquids delivered for electricity generation by state\n",
      "68 4.12.a Average cost of petroleum coke delivered for electricity generation by state\n",
      "69 4.13.a Average cost of natural gas delivered for electricity generation by state\n",
      "70 5.1 Retail sales of electricity to ultimate customers: total by end-use sector\n",
      "71 5.2 Revenue from retail sales of electricity to ultimate customers total by end-use sector\n",
      "72 5.3 Average retail price of electricity to ultimate customers: total by end-use sector\n",
      "73 5.4 Retail sales of electricity to ultimate customers by end-use sector, by state\n",
      "74 5.5 Revenue from retail sales of electricity to ultimate customers by end-use sector, by state\n",
      "75 5.6 Average retail price of electricity to ultimate customers by end-use sector, by state\n"
     ]
    }
   ],
   "source": [
    "for i,j in enumerate(data_list):\n",
    "    print(i,j)"
   ]
  },
  {
   "cell_type": "code",
   "execution_count": 7,
   "metadata": {},
   "outputs": [],
   "source": [
    "# select data frequency\n",
    "driver.find_element_by_xpath('//div[@class=\"time-selection-controls\"]/div[@class=\"selection-menu-button frequency\"][1]').click()"
   ]
  },
  {
   "cell_type": "code",
   "execution_count": 8,
   "metadata": {},
   "outputs": [],
   "source": [
    "\n",
    "driver.find_element_by_xpath('//label[@for=\"quarterly\"]').click()"
   ]
  },
  {
   "cell_type": "code",
   "execution_count": 35,
   "metadata": {},
   "outputs": [],
   "source": [
    "# download\n",
    "driver.find_element_by_xpath('//div[@id=\"main_download_button\"]').click()"
   ]
  },
  {
   "cell_type": "code",
   "execution_count": 36,
   "metadata": {},
   "outputs": [],
   "source": [
    "# choose the attachment file format\n",
    "driver.find_element_by_xpath('//dl[@class=\"download_menu\"]/dd/a[@id=\"csv_table\"]').click()"
   ]
  },
  {
   "cell_type": "code",
   "execution_count": 34,
   "metadata": {},
   "outputs": [],
   "source": [
    "# choose pre-genrated report\n",
    "driver.find_elements_by_xpath('//option[@class=\"link_option\"]')[20].click()"
   ]
  },
  {
   "cell_type": "code",
   "execution_count": null,
   "metadata": {},
   "outputs": [],
   "source": [
    "# choose dataset\n",
    "driver.find_elements_by_xpath('//optgroup/option')[1].click()"
   ]
  },
  {
   "cell_type": "markdown",
   "metadata": {},
   "source": []
  },
  {
   "cell_type": "code",
   "execution_count": 20,
   "metadata": {},
   "outputs": [],
   "source": [
    "# click the slect dataset\n",
    "driver.find_elements_by_xpath('//optgroup[1]')\n",
    "html_source = driver.page_source\n",
    "label = etree.HTML(html_source)\n",
    "all_dataset_name = label.xpath('//optgroup/option/text()')"
   ]
  },
  {
   "cell_type": "code",
   "execution_count": 21,
   "metadata": {},
   "outputs": [
    {
     "data": {
      "text/plain": [
       "['Net generation',\n",
       " 'Total consumption',\n",
       " 'Total consumption (Btu)',\n",
       " 'Consumption for electricity generation',\n",
       " 'Consumption for electricity generation (Btu)',\n",
       " 'Consumption for useful thermal output',\n",
       " 'Consumption for useful thermal output (Btu)',\n",
       " 'Plant level data',\n",
       " 'Retail sales of electricity',\n",
       " 'Revenue from retail sales of electricity',\n",
       " 'Average retail price of electricity',\n",
       " 'Number of customer accounts',\n",
       " 'Fossil-fuel stocks for electricity generation',\n",
       " 'Receipts of fossil fuels by electricity plants',\n",
       " 'Receipts of fossil fuels by electricity plants (Btu)',\n",
       " 'Average cost of fossil fuels for electricity generation',\n",
       " 'Average cost of fossil fuels for electricity generation (per Btu)',\n",
       " 'Quality of fossil fuels in electricity generation : sulfur content',\n",
       " 'Quality of fossil fuels in electricity generation : ash content']"
      ]
     },
     "execution_count": 21,
     "metadata": {},
     "output_type": "execute_result"
    }
   ],
   "source": [
    "all_dataset_name"
   ]
  },
  {
   "cell_type": "code",
   "execution_count": null,
   "metadata": {},
   "outputs": [],
   "source": [
    "<div id=\"frequency-selection-button-container\" class=\"selection-menu-button frequency open\">\n",
    "<div class=\"text\">Monthly</div>\n",
    "\t</div>\n",
    "//div[@class=\"selection-menu-button frequency open\"]"
   ]
  },
  {
   "cell_type": "code",
   "execution_count": null,
   "metadata": {},
   "outputs": [],
   "source": [
    "//div[@class=\"time-selection-controls\"]/div[@class=\"selection-menu-button frequency open\"]"
   ]
  },
  {
   "cell_type": "code",
   "execution_count": null,
   "metadata": {},
   "outputs": [],
   "source": [
    "//label[@for=\"annual\"]"
   ]
  },
  {
   "cell_type": "code",
   "execution_count": null,
   "metadata": {},
   "outputs": [],
   "source": [
    "div[@id=\"main_download_button\"]"
   ]
  },
  {
   "cell_type": "code",
   "execution_count": null,
   "metadata": {},
   "outputs": [],
   "source": [
    "//dl[@class=\"download_menu\"]/dd/a[@id=\"csv_table\"]"
   ]
  },
  {
   "cell_type": "code",
   "execution_count": null,
   "metadata": {},
   "outputs": [],
   "source": [
    "//optgroup"
   ]
  },
  {
   "cell_type": "code",
   "execution_count": null,
   "metadata": {},
   "outputs": [],
   "source": [
    "<optgroup label=\"Electricity generation &amp; consumption (EIA-906/EIA-920/EIA-923)\">\n",
    "\t\t\t\t\t<option class=\"link_option\" value=\"0\">Net generation</option>\n",
    "\t\t\t\t\t<option class=\"link_option\" value=\"2\">Total consumption</option>\n",
    "\t\t\t\t\t<option class=\"link_option\" value=\"8\">Total consumption (Btu)</option>\n",
    "\t\t\t\t\t<option class=\"link_option\" value=\"3\">Consumption for electricity generation</option>\n",
    "\t\t\t\t\t<option class=\"link_option\" value=\"9\">Consumption for electricity generation (Btu)</option>\n",
    "\t\t\t\t\t<option class=\"link_option\" value=\"4\">Consumption for useful thermal output</option>\n",
    "\t\t\t\t\t<option class=\"link_option\" value=\"10\">Consumption for useful thermal output (Btu)</option>\n",
    "\t\t\t\t\t<option class=\"link_option\" value=\"1\">Plant level data</option>\n",
    "\t\t\t\t</optgroup>"
   ]
  }
 ],
 "metadata": {
  "kernelspec": {
   "display_name": "base",
   "language": "python",
   "name": "python3"
  },
  "language_info": {
   "codemirror_mode": {
    "name": "ipython",
    "version": 3
   },
   "file_extension": ".py",
   "mimetype": "text/x-python",
   "name": "python",
   "nbconvert_exporter": "python",
   "pygments_lexer": "ipython3",
   "version": "3.8.5"
  },
  "orig_nbformat": 4
 },
 "nbformat": 4,
 "nbformat_minor": 2
}
